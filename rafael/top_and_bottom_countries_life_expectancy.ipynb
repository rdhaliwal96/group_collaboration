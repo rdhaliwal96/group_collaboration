{
 "cells": [
  {
   "cell_type": "code",
   "execution_count": null,
   "metadata": {},
   "outputs": [],
   "source": [
    "import pandas as pd\n"
   ]
  },
  {
   "cell_type": "code",
   "execution_count": null,
   "metadata": {},
   "outputs": [],
   "source": [
    "# Import data\n",
    "\n",
    "\n",
    "filename = 'Resources/life_expectancy.csv'\n",
    "\n",
    "life_expectancy = pd.read_csv(filename)"
   ]
  },
  {
   "cell_type": "code",
   "execution_count": null,
   "metadata": {},
   "outputs": [],
   "source": [
    "# Cleaning up life expectancy data frame.\n",
    "# Transposes dataframe and drops rows that aren't needed for calculations.\n",
    "\n",
    "\n",
    "life_expectancy_transposed = life_expectancy.transpose()\n",
    "life_expectancy_transposed.columns = life_expectancy_transposed.iloc[0]\n",
    "life_expectancy_transposed = life_expectancy_transposed.drop(['Country Name', 'Country Code', 'Indicator Name', 'Indicator Code'])\n",
    "life_expectancy_transposed = life_expectancy_transposed.dropna(axis = 'columns',how = 'any')\n",
    "\n",
    "life_expectancy_transposed.head()\n"
   ]
  },
  {
   "cell_type": "code",
   "execution_count": null,
   "metadata": {},
   "outputs": [],
   "source": [
    "# Life expectancy averages from last 10 years\n",
    "\n",
    "LE_10years = life_expectancy_transposed.iloc[range(46,57),:]\n",
    "\n",
    "avg_life_10_years = pd.DataFrame(LE_10years.mean().sort_values(ascending = False))\n",
    "avg_life_10_years = avg_life_10_years.rename(columns = {0 : 'Avg Life Expectancy (2006-2016)'})\n",
    "avg_life_10_years = avg_life_10_years.reset_index()\n",
    "\n",
    "avg_life_10_years.head()"
   ]
  },
  {
   "cell_type": "code",
   "execution_count": null,
   "metadata": {},
   "outputs": [],
   "source": [
    "# Set criteria for highest where highest is 80 years and above.\n",
    "# 26 countries fall under this criteria\n",
    "\n",
    "top_avg_life_10_years = avg_life_10_years.loc[avg_life_10_years[\"Avg Life Expectancy (2006-2016)\"] > 80]\n",
    "top_avg_life_10_years = top_avg_life_10_years.drop(index = 14).reset_index(drop = True)  # drops 'euro area' because it's not a country\n",
    "\n",
    "top_avg_life_10_years"
   ]
  },
  {
   "cell_type": "code",
   "execution_count": null,
   "metadata": {},
   "outputs": [],
   "source": [
    "# Set criteria for lowest life expectancy where lowest is 60 years and below.\n",
    "# 30 countries fall under this criteria\n",
    "\n",
    "bot_avg_life_10_years = avg_life_10_years.loc[avg_life_10_years[\"Avg Life Expectancy (2006-2016)\"] < 60]\n",
    "bot_avg_life_10_years = bot_avg_life_10_years.drop(index = [200,201,203,209,210,211,214]).reset_index(drop = True) # drops regions that aren't countries\n",
    "\n",
    "bot_avg_life_10_years"
   ]
  }
 ],
 "metadata": {
  "kernelspec": {
   "display_name": "PythonData",
   "language": "python",
   "name": "pythondata"
  },
  "language_info": {
   "codemirror_mode": {
    "name": "ipython",
    "version": 3
   },
   "file_extension": ".py",
   "mimetype": "text/x-python",
   "name": "python",
   "nbconvert_exporter": "python",
   "pygments_lexer": "ipython3",
   "version": "3.6.0"
  }
 },
 "nbformat": 4,
 "nbformat_minor": 2
}
